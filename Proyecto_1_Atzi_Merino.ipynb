{
  "nbformat": 4,
  "nbformat_minor": 0,
  "metadata": {
    "colab": {
      "provenance": []
    },
    "kernelspec": {
      "name": "python3",
      "display_name": "Python 3"
    },
    "language_info": {
      "name": "python"
    }
  },
  "cells": [
    {
      "cell_type": "markdown",
      "source": [
        "# Proyecto 1 de programación\n",
        "**Atzi Merino**"
      ],
      "metadata": {
        "id": "xRGwEwRWwKd6"
      }
    },
    {
      "cell_type": "markdown",
      "source": [
        "Imports"
      ],
      "metadata": {
        "id": "QAM5GB--wXBh"
      }
    },
    {
      "cell_type": "code",
      "source": [
        "import numpy as np\n",
        "import pandas as pd"
      ],
      "metadata": {
        "id": "PbkBpPfgJk1N"
      },
      "execution_count": 13,
      "outputs": []
    },
    {
      "cell_type": "markdown",
      "source": [
        "Clases"
      ],
      "metadata": {
        "id": "v4aPTzujwY5j"
      }
    },
    {
      "cell_type": "code",
      "source": [
        "#Esta clase guarda los metodos y atributos de una graficas\n",
        "class Grafica:\n",
        "  def __init__(self, nodos, arcos):\n",
        "    #Se le asocia una matriz cuadrada\n",
        "    self.matriz = np.zeros((len(nodos),len(nodos)))\n",
        "    #Este for modifica la matriz para que represente la incidencia de arcos\n",
        "    for x in arcos:\n",
        "      self.matriz[x[0],x[1]] = 1\n",
        "  #Tiene un metodo str para que al imprimir se vea bien el objeto\n",
        "  def __str__(self):\n",
        "    return str(self.matriz)"
      ],
      "metadata": {
        "id": "J-562kaRJgPf"
      },
      "execution_count": 14,
      "outputs": []
    },
    {
      "cell_type": "code",
      "source": [
        "#Esta clase hereda de una grafica y representa una red de sitios web\n",
        "class Red(Grafica):\n",
        "  def __init__(self, ruta_del_archivo):\n",
        "    #Es necesario un archivo con los datos de los sitios\n",
        "    self.ruta_del_archivo = ruta_del_archivo\n",
        "  #Este metodo forma los arcos y los nodos y los guarda en una grafica\n",
        "  def construccion_pd(self):\n",
        "    df = pd.read_excel(self.ruta_del_archivo)\n",
        "    self.nodos = (list(range(len(df[\"Index\"]))))\n",
        "    self.arcos = []\n",
        "    citados = list(df[\"Cited by\"])\n",
        "    for i in range(len(citados)):\n",
        "      for j in citados[i].split(','):\n",
        "        self.arcos.append((int(j)-1,i))\n",
        "    return Grafica(self.nodos, self.arcos)\n",
        "  #Este metodo extrae las paginas web del acrhivo\n",
        "  def paginas_web(self):\n",
        "    df = pd.read_excel(self.ruta_del_archivo)\n",
        "    paginas_web = list(df[\"Website\"])\n",
        "    return paginas_web"
      ],
      "metadata": {
        "id": "B9qER_BCJqKn"
      },
      "execution_count": 15,
      "outputs": []
    },
    {
      "cell_type": "markdown",
      "source": [
        "Funciones"
      ],
      "metadata": {
        "id": "duSCtHwxwbgN"
      }
    },
    {
      "cell_type": "code",
      "source": [
        "#Esta funcion hace que los renglones de la matriz sumen 1\n",
        "def arreglo_renglones(matriz):\n",
        "  for i in range(len(matriz)):\n",
        "    matriz[i,: ] = matriz[i,: ] / sum(matriz[i,: ])\n",
        "  return matriz"
      ],
      "metadata": {
        "id": "LzWTN9bSKGRE"
      },
      "execution_count": 16,
      "outputs": []
    },
    {
      "cell_type": "code",
      "source": [
        "#Esta funcion forma un vector de entradas 1/n\n",
        "#Su tamaño dependerá del tamaño de matriz con la que trabajamos\n",
        "def vector_1_n(matriz):\n",
        "  vector = np.zeros((1, len(matriz)))\n",
        "  for i in range(len(matriz)):\n",
        "    vector[0, i] = 1/len(matriz)\n",
        "  return vector"
      ],
      "metadata": {
        "id": "pdxLA5HcUCkO"
      },
      "execution_count": 17,
      "outputs": []
    },
    {
      "cell_type": "code",
      "source": [
        "#Esta funcion construye una matriz con entradas 1/n\n",
        "def matriz_1_n(matriz):\n",
        "  matriz1n = np.zeros((len(matriz), len(matriz)))\n",
        "  for i in range(len(matriz)):\n",
        "    for j in range(len(matriz)):\n",
        "      matriz1n[i, j] = 1/len(matriz)\n",
        "  return matriz1n"
      ],
      "metadata": {
        "id": "4gcZIzv031Ma"
      },
      "execution_count": 18,
      "outputs": []
    },
    {
      "cell_type": "code",
      "source": [
        "#Esta funcion forma un vector dada una terminación de sitio web\n",
        "def vector_terminacion(red, matriz, terminacion):\n",
        "  vector = np.zeros((1, len(matriz)))\n",
        "  contador = 0\n",
        "  for i in range(len(matriz)):\n",
        "    if red.paginas_web()[i].endswith(terminacion):\n",
        "      vector[0, i] = 1\n",
        "      contador = contador + 1\n",
        "    else:\n",
        "      vector[0,i] = 0\n",
        "  return (1/contador)*vector"
      ],
      "metadata": {
        "id": "sQUTq2sH6mzv"
      },
      "execution_count": 19,
      "outputs": []
    },
    {
      "cell_type": "code",
      "source": [
        "#Esta función multiplica iterativamente el vector y la matriz\n",
        "def page_rank(matriz,vector):\n",
        "  vector_resultante = vector\n",
        "  for i in range(10000):\n",
        "    vector_resultante = np.matmul(vector_resultante,matriz)\n",
        "  return vector_resultante"
      ],
      "metadata": {
        "id": "yIU0CUsPODzz"
      },
      "execution_count": 20,
      "outputs": []
    },
    {
      "cell_type": "code",
      "source": [
        "#Esta función multiplica iterativamente añadiendo la u y la d\n",
        "def page_rank_u(matriz, vector, d):\n",
        "  u = matriz_1_n(matriz)\n",
        "  vector_resultante = vector\n",
        "  for i in range(10000):\n",
        "    vector_resultante = np.matmul(vector_resultante, d * matriz + (1-d) * u)\n",
        "  return vector_resultante"
      ],
      "metadata": {
        "id": "m6wUndbj5bVO"
      },
      "execution_count": 21,
      "outputs": []
    },
    {
      "cell_type": "code",
      "source": [
        "#Esta funcion devuelve una lista con las importancias ordenadas\n",
        "def importancia_paginas(vector_importancia):\n",
        "  lista_importancias = []\n",
        "  tuplas = []\n",
        "  paginas = list(range(np.size(vector_importancia)))\n",
        "  #Primero se convierte el vector en lista\n",
        "  for i in range(np.size(vector_importancia)):\n",
        "    lista_importancias.append(vector_importancia[0, i])\n",
        "  #Luego generé una lista de tuplas de la importancia y la página web asociada\n",
        "  for i in range(len(lista_importancias)):\n",
        "    tuplas.append((lista_importancias[i],paginas[i]+1))\n",
        "  #Las ordeno de menor a mayor\n",
        "  importancias_ordenadas = sorted(tuplas)\n",
        "  #Luego lo invierto para que el mayor quede primero\n",
        "  importancias_ordenadas.reverse()\n",
        "  return importancias_ordenadas"
      ],
      "metadata": {
        "id": "vc7YeaQgRBFf"
      },
      "execution_count": 22,
      "outputs": []
    },
    {
      "cell_type": "markdown",
      "source": [
        "Main"
      ],
      "metadata": {
        "id": "WDQfmwBfwhlk"
      }
    },
    {
      "cell_type": "code",
      "source": [
        "#La función main usa todas las anteriores para contestar las preguntas\n",
        "def main():\n",
        "  red_paginas = Red(\"/content/Web.xlsx\")\n",
        "  matriz_citas = red_paginas.construccion_pd().matriz\n",
        "  p = arreglo_renglones(matriz_citas)\n",
        "  #Pregunta 1\n",
        "  vector1n = vector_1_n(p)\n",
        "  vector_importancia = page_rank(p,vector1n)\n",
        "  importancias_1 = importancia_paginas(vector_importancia)\n",
        "  #Pregunta 2\n",
        "  vector_ru = vector_terminacion(red_paginas,p,\".ru\")\n",
        "  vector_importancia_ru = page_rank(p,vector_ru)\n",
        "  importancias_2 = importancia_paginas(vector_importancia_ru)\n",
        "  #Pregunta 3\n",
        "  d1 = 0.5\n",
        "  vector_importancia_d1 = page_rank_u(p,vector1n,d1)\n",
        "  importancias_d1 = importancia_paginas(vector_importancia_d1)\n",
        "\n",
        "  d2 = 0.85\n",
        "  vector_importancia_d2 = page_rank_u(p,vector1n,d2)\n",
        "  importancias_d2 = importancia_paginas(vector_importancia_d2)\n",
        "\n",
        "  d3 = 1\n",
        "  vector_importancia_d3 = page_rank_u(p,vector1n,d3)\n",
        "  importancias_d3 = importancia_paginas(vector_importancia_d3)\n",
        "\n",
        "  print(\"la página más importante iniciando con el vector (1/n,..,1/n) es la \"\n",
        "        + str(importancias_1[0][1]))\n",
        "  print(\"la página más importante tomando sitios web .ru es la \"\n",
        "        + str(importancias_2[0][1]))\n",
        "  print(\"la página más importante agregado la u y tomando d=\"\n",
        "        + str(d1) + \" es la \"  + str(importancias_d1[0][1]))\n",
        "  print(\"la página más importante agregado la u y tomando d=\"\n",
        "        + str(d2) + \" es la \"  + str(importancias_d2[0][1]))\n",
        "  print(\"la página más importante agregado la u y tomando d=\"\n",
        "        + str(d3) + \" es la \"  + str(importancias_d3[0][1]))"
      ],
      "metadata": {
        "id": "vSz9t37QJust"
      },
      "execution_count": 23,
      "outputs": []
    },
    {
      "cell_type": "code",
      "source": [
        "if __name__ == '__main__':\n",
        "  main()"
      ],
      "metadata": {
        "colab": {
          "base_uri": "https://localhost:8080/"
        },
        "id": "NzV1LUnHUkBb",
        "outputId": "3a9eae3e-3453-46d4-87bf-aac413ed74dd"
      },
      "execution_count": 24,
      "outputs": [
        {
          "output_type": "stream",
          "name": "stdout",
          "text": [
            "la página más importante iniciando con el vector (1/n,..,1/n) es la 26\n",
            "la página más importante tomando sitios web .ru es la 24\n",
            "la página más importante agregado la u y tomando d=0.5 es la 26\n",
            "la página más importante agregado la u y tomando d=0.85 es la 26\n",
            "la página más importante agregado la u y tomando d=1 es la 26\n"
          ]
        }
      ]
    }
  ]
}